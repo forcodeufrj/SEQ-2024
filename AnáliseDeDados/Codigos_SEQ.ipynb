{
  "nbformat": 4,
  "nbformat_minor": 0,
  "metadata": {
    "colab": {
      "provenance": [],
      "collapsed_sections": [
        "kTkhAZ2vjL_T",
        "VS2np7xgjCpD",
        "yxl24FLBhKNq",
        "7cTa9rkEhRN0",
        "4GHRTANeh0m-",
        "i2fq_2uviAi7",
        "t4fOlVs5iHmI",
        "loEYQUJniQBE",
        "Wtmg1kwPidUg",
        "H5B7hwr1is1v",
        "c-Yfx2Zzdfcq"
      ],
      "include_colab_link": true
    },
    "kernelspec": {
      "name": "python3",
      "display_name": "Python 3"
    },
    "language_info": {
      "name": "python"
    }
  },
  "cells": [
    {
      "cell_type": "markdown",
      "metadata": {
        "id": "view-in-github",
        "colab_type": "text"
      },
      "source": [
        "<a href=\"https://colab.research.google.com/github/forcodeufrj/SEQ-2024/blob/main/Codigos_SEQ.ipynb\" target=\"_parent\"><img src=\"https://colab.research.google.com/assets/colab-badge.svg\" alt=\"Open In Colab\"/></a>"
      ]
    },
    {
      "cell_type": "markdown",
      "source": [
        "# Conceitos básicos"
      ],
      "metadata": {
        "id": "jGq_6JTxhCXe"
      }
    },
    {
      "cell_type": "markdown",
      "source": [
        "### Lista"
      ],
      "metadata": {
        "id": "3jQwOfKEjJzy"
      }
    },
    {
      "cell_type": "code",
      "source": [
        "lista = [1, 2, 3, 4]"
      ],
      "metadata": {
        "id": "Hc_hZwKTjLoz"
      },
      "execution_count": null,
      "outputs": []
    },
    {
      "cell_type": "code",
      "source": [
        "print(lista[1])"
      ],
      "metadata": {
        "colab": {
          "base_uri": "https://localhost:8080/"
        },
        "id": "Uv2UEFKJkrOK",
        "outputId": "1234db4c-0f4a-418b-da60-67bb362e8baa"
      },
      "execution_count": null,
      "outputs": [
        {
          "output_type": "stream",
          "name": "stdout",
          "text": [
            "2\n"
          ]
        }
      ]
    },
    {
      "cell_type": "code",
      "source": [
        "lista.append(5)"
      ],
      "metadata": {
        "id": "K-6nRmlDkuBz"
      },
      "execution_count": null,
      "outputs": []
    },
    {
      "cell_type": "code",
      "source": [
        "print(lista)"
      ],
      "metadata": {
        "colab": {
          "base_uri": "https://localhost:8080/"
        },
        "id": "4Z0A8L0nku0c",
        "outputId": "117a3b51-ce5c-401b-de24-367f12024118"
      },
      "execution_count": null,
      "outputs": [
        {
          "output_type": "stream",
          "name": "stdout",
          "text": [
            "[1, 2, 3, 4, 5]\n"
          ]
        }
      ]
    },
    {
      "cell_type": "markdown",
      "source": [
        "### Dicionário"
      ],
      "metadata": {
        "id": "kTkhAZ2vjL_T"
      }
    },
    {
      "cell_type": "code",
      "source": [
        "dicionario = {\"nome\": \"Oxigênio\", \"símbolo\": \"O\", \"número atômico\": 8, \"massa atômica\": 16}"
      ],
      "metadata": {
        "id": "-08FBY8ZjP9T"
      },
      "execution_count": null,
      "outputs": []
    },
    {
      "cell_type": "code",
      "source": [
        "print(dicionario[\"nome\"])"
      ],
      "metadata": {
        "colab": {
          "base_uri": "https://localhost:8080/"
        },
        "id": "t4IK3QTikzMD",
        "outputId": "3098f72f-dc11-4996-e618-0c3749ab5b1d"
      },
      "execution_count": null,
      "outputs": [
        {
          "output_type": "stream",
          "name": "stdout",
          "text": [
            "Oxigênio\n"
          ]
        }
      ]
    },
    {
      "cell_type": "code",
      "source": [
        "dicionario[\"estado físico\"] = \"gasoso\""
      ],
      "metadata": {
        "id": "67aKCcyEk3y7"
      },
      "execution_count": null,
      "outputs": []
    },
    {
      "cell_type": "code",
      "source": [
        "print(dicionario[\"estado físico\"])"
      ],
      "metadata": {
        "colab": {
          "base_uri": "https://localhost:8080/"
        },
        "id": "CEFXN-h2k5oa",
        "outputId": "3b2b8756-2e14-45f1-fe7f-2376bb464e20"
      },
      "execution_count": null,
      "outputs": [
        {
          "output_type": "stream",
          "name": "stdout",
          "text": [
            "gasoso\n"
          ]
        }
      ]
    },
    {
      "cell_type": "code",
      "source": [
        "del dicionario[\"estado físico\"]"
      ],
      "metadata": {
        "id": "-lJODMxgk7ST"
      },
      "execution_count": null,
      "outputs": []
    },
    {
      "cell_type": "code",
      "source": [
        "print(dicionario)"
      ],
      "metadata": {
        "colab": {
          "base_uri": "https://localhost:8080/"
        },
        "id": "MtGd2kc1k8z7",
        "outputId": "9b96bfa2-c2aa-4165-a8d2-552337649c11"
      },
      "execution_count": null,
      "outputs": [
        {
          "output_type": "stream",
          "name": "stdout",
          "text": [
            "{'nome': 'Oxigênio', 'símbolo': 'O', 'número atômico': 8, 'massa atômica': 16}\n"
          ]
        }
      ]
    },
    {
      "cell_type": "markdown",
      "source": [
        "# Prática: Análise de dados"
      ],
      "metadata": {
        "id": "NtN5NfDEjXFL"
      }
    },
    {
      "cell_type": "markdown",
      "source": [
        "# Biblioteca: Pandas"
      ],
      "metadata": {
        "id": "VS2np7xgjCpD"
      }
    },
    {
      "cell_type": "code",
      "source": [
        " # Importa a biblioteca pandas\n",
        "import pandas as pd\n"
      ],
      "metadata": {
        "id": "jQzMRK4Ihd1A"
      },
      "execution_count": null,
      "outputs": []
    },
    {
      "cell_type": "markdown",
      "source": [
        "# Dicionário com informações de química\n"
      ],
      "metadata": {
        "id": "yxl24FLBhKNq"
      }
    },
    {
      "cell_type": "code",
      "source": [
        "\n",
        "# Dicionário com informações de química\n",
        "\n",
        "quimica_data = {\n",
        "    'Elemento': ['Hidrogênio', 'Hélio', 'Lítio', 'Berílio', 'Boro', 'Carbono', 'Nitrogênio', 'Oxigênio', 'Flúor', 'Neônio', 'Sódio', 'Magnésio', 'Alumínio', 'Silício', 'Fósforo', 'Enxofre', 'Cloro', 'Argônio', 'Potássio', 'Cálcio'],\n",
        "    'Símbolo': ['H', 'He', 'Li', 'Be', 'B', 'C', 'N', 'O', 'F', 'Ne', 'Na', 'Mg', 'Al', 'Si', 'P', 'S', 'Cl', 'Ar', 'K', 'Ca'],\n",
        "    'Número Atômico': [1, 2, 3, 4, 5, 6, 7, 8, 9, 10, 11, 12, 13, 14, 15, 16, 17, 18, 19, 20],\n",
        "    'Massa Atômica': [1.008, 4.0026, 6.94, 9.0122, 10.81, 12.011, 14.007, 15.999, 18.998, 20.180, 22.990, 24.305, 26.982, 28.085, 30.974, 32.06, 35.45, 39.948, 39.098, 40.078],\n",
        "    'Informação': ['Info1', 'Info2', 'Info3', 'Info4', 'Info5', 'Info6', 'Info7', 'Info8', 'Info9', 'Info10', 'Info11', 'Info12', 'Info13', 'Info14',\n",
        "    'Info15', 'Info16', 'Info17', 'Info18', 'Info19', 'Info20']}\n",
        "\n"
      ],
      "metadata": {
        "id": "-hNv1PuJhNFr"
      },
      "execution_count": null,
      "outputs": []
    },
    {
      "cell_type": "code",
      "source": [
        "print(quimica_data)"
      ],
      "metadata": {
        "colab": {
          "base_uri": "https://localhost:8080/"
        },
        "id": "5peKlZ7TVlZ1",
        "outputId": "e40c7901-ee63-4007-c931-615152a555a7"
      },
      "execution_count": null,
      "outputs": [
        {
          "output_type": "stream",
          "name": "stdout",
          "text": [
            "{'Elemento': ['Hidrogênio', 'Hélio', 'Lítio', 'Berílio', 'Boro', 'Carbono', 'Nitrogênio', 'Oxigênio', 'Flúor', 'Neônio', 'Sódio', 'Magnésio', 'Alumínio', 'Silício', 'Fósforo', 'Enxofre', 'Cloro', 'Argônio', 'Potássio', 'Cálcio'], 'Símbolo': ['H', 'He', 'Li', 'Be', 'B', 'C', 'N', 'O', 'F', 'Ne', 'Na', 'Mg', 'Al', 'Si', 'P', 'S', 'Cl', 'Ar', 'K', 'Ca'], 'Número Atômico': [1, 2, 3, 4, 5, 6, 7, 8, 9, 10, 11, 12, 13, 14, 15, 16, 17, 18, 19, 20], 'Massa Atômica': [1.008, 4.0026, 6.94, 9.0122, 10.81, 12.011, 14.007, 15.999, 18.998, 20.18, 22.99, 24.305, 26.982, 28.085, 30.974, 32.06, 35.45, 39.948, 39.098, 40.078], 'Informação': ['Info1', 'Info2', 'Info3', 'Info4', 'Info5', 'Info6', 'Info7', 'Info8', 'Info9', 'Info10', 'Info11', 'Info12', 'Info13', 'Info14', 'Info15', 'Info16', 'Info17', 'Info18', 'Info19', 'Info20']}\n"
          ]
        }
      ]
    },
    {
      "cell_type": "markdown",
      "source": [
        "# Cria um arquivo .csv a partir do dicionário\n"
      ],
      "metadata": {
        "id": "7cTa9rkEhRN0"
      }
    },
    {
      "cell_type": "code",
      "source": [
        "# Cria um DataFrame do pandas a partir do dicionário\n",
        "df = pd.DataFrame(quimica_data)\n",
        "\n",
        "# Nome do arquivo CSV de saída\n",
        "arquivo_csv = 'tabela_quimica.csv'\n",
        "\n",
        "# Salva o DataFrame como um arquivo CSV\n",
        "df.to_csv(arquivo_csv, index=False)\n",
        "\n",
        "'''\n",
        "!pip install xlwt # Instala a biblioteca para manipular .xls\n",
        "\n",
        "# Nome do arquivo XLS de saída\n",
        "arquivo_xls = 'tabela_quimica.xls'\n",
        "\n",
        "# Salva o DataFrame como um arquivo XLS (Excel)\n",
        "df.to_excel(arquivo_xls)\n",
        "'''\n",
        "\n",
        "# Exibe o DataFrame (opcional)\n",
        "print(df)\n"
      ],
      "metadata": {
        "colab": {
          "base_uri": "https://localhost:8080/"
        },
        "id": "jDyP_2odhahp",
        "outputId": "7453a571-c35d-4e04-bf00-e3e79e739167"
      },
      "execution_count": null,
      "outputs": [
        {
          "output_type": "stream",
          "name": "stdout",
          "text": [
            "      Elemento Símbolo  Número Atômico  Massa Atômica Informação\n",
            "0   Hidrogênio       H               1         1.0080      Info1\n",
            "1        Hélio      He               2         4.0026      Info2\n",
            "2        Lítio      Li               3         6.9400      Info3\n",
            "3      Berílio      Be               4         9.0122      Info4\n",
            "4         Boro       B               5        10.8100      Info5\n",
            "5      Carbono       C               6        12.0110      Info6\n",
            "6   Nitrogênio       N               7        14.0070      Info7\n",
            "7     Oxigênio       O               8        15.9990      Info8\n",
            "8        Flúor       F               9        18.9980      Info9\n",
            "9       Neônio      Ne              10        20.1800     Info10\n",
            "10       Sódio      Na              11        22.9900     Info11\n",
            "11    Magnésio      Mg              12        24.3050     Info12\n",
            "12    Alumínio      Al              13        26.9820     Info13\n",
            "13     Silício      Si              14        28.0850     Info14\n",
            "14     Fósforo       P              15        30.9740     Info15\n",
            "15     Enxofre       S              16        32.0600     Info16\n",
            "16       Cloro      Cl              17        35.4500     Info17\n",
            "17     Argônio      Ar              18        39.9480     Info18\n",
            "18    Potássio       K              19        39.0980     Info19\n",
            "19      Cálcio      Ca              20        40.0780     Info20\n"
          ]
        }
      ]
    },
    {
      "cell_type": "markdown",
      "source": [
        "# Limpeza dos dados"
      ],
      "metadata": {
        "id": "4GHRTANeh0m-"
      }
    },
    {
      "cell_type": "code",
      "source": [
        "# Função \"read_csv\" para ler o arquivo CSV\n",
        "df = pd.read_csv(\"tabela_quimica.csv\")\n",
        "# Função \"drop\" para remover uma coluna do arquivo CSV\n",
        "df = df.drop(\"Informação\", axis=1)\n",
        "# Salva o arquivo CSV modificado\n",
        "df.to_csv(\"tabela_quimica.csv\", index=False)\n",
        "print(df)"
      ],
      "metadata": {
        "colab": {
          "base_uri": "https://localhost:8080/"
        },
        "id": "t6xsOJhih3Pb",
        "outputId": "36bdd268-ad19-468d-a2b2-be7206378346"
      },
      "execution_count": null,
      "outputs": [
        {
          "output_type": "stream",
          "name": "stdout",
          "text": [
            "      Elemento Símbolo  Número Atômico  Massa Atômica\n",
            "0   Hidrogênio       H               1         1.0080\n",
            "1        Hélio      He               2         4.0026\n",
            "2        Lítio      Li               3         6.9400\n",
            "3      Berílio      Be               4         9.0122\n",
            "4         Boro       B               5        10.8100\n",
            "5      Carbono       C               6        12.0110\n",
            "6   Nitrogênio       N               7        14.0070\n",
            "7     Oxigênio       O               8        15.9990\n",
            "8        Flúor       F               9        18.9980\n",
            "9       Neônio      Ne              10        20.1800\n",
            "10       Sódio      Na              11        22.9900\n",
            "11    Magnésio      Mg              12        24.3050\n",
            "12    Alumínio      Al              13        26.9820\n",
            "13     Silício      Si              14        28.0850\n",
            "14     Fósforo       P              15        30.9740\n",
            "15     Enxofre       S              16        32.0600\n",
            "16       Cloro      Cl              17        35.4500\n",
            "17     Argônio      Ar              18        39.9480\n",
            "18    Potássio       K              19        39.0980\n",
            "19      Cálcio      Ca              20        40.0780\n"
          ]
        }
      ]
    },
    {
      "cell_type": "markdown",
      "source": [
        "# Tendências  "
      ],
      "metadata": {
        "id": "i2fq_2uviAi7"
      }
    },
    {
      "cell_type": "code",
      "source": [
        "# Calculando estatísticas descritivas para \"Número Atômico\" e \"Massa Atômica\"\n",
        "estatisticas_descritivas = df[['Número Atômico', 'Massa Atômica']].describe()\n",
        "print(estatisticas_descritivas)\n"
      ],
      "metadata": {
        "colab": {
          "base_uri": "https://localhost:8080/"
        },
        "id": "Q2wiLls9iA0M",
        "outputId": "3f1404bc-e3e2-43c6-afcc-f4e6149b13c8"
      },
      "execution_count": null,
      "outputs": [
        {
          "output_type": "stream",
          "name": "stdout",
          "text": [
            "       Número Atômico  Massa Atômica\n",
            "count        20.00000       20.00000\n",
            "mean         10.50000       21.64689\n",
            "std           5.91608       12.28360\n",
            "min           1.00000        1.00800\n",
            "25%           5.75000       11.71075\n",
            "50%          10.50000       21.58500\n",
            "75%          15.25000       31.24550\n",
            "max          20.00000       40.07800\n"
          ]
        }
      ]
    },
    {
      "cell_type": "markdown",
      "source": [
        "# Gráfico de barras"
      ],
      "metadata": {
        "id": "t4fOlVs5iHmI"
      }
    },
    {
      "cell_type": "code",
      "source": [
        "import matplotlib.pyplot as plt\n",
        "\n",
        "# Gráfico de barras para \"Massa Atômica\"\n",
        "plt.figure(figsize=(10, 6))\n",
        "plt.bar(df['Elemento'], df['Massa Atômica'], label='Massa Atômica', alpha=0.7)\n",
        "plt.xlabel('Elemento')\n",
        "plt.ylabel('Valor')\n",
        "plt.title('Massa Atômica para Elementos Químicos')\n",
        "plt.xticks(rotation=45)\n",
        "plt.legend()\n",
        "plt.tight_layout()\n",
        "plt.show()\n"
      ],
      "metadata": {
        "colab": {
          "base_uri": "https://localhost:8080/",
          "height": 607
        },
        "id": "bsakZ2cSiH_C",
        "outputId": "bf8b47c4-d380-45dd-b9a3-bc64e9adbe98"
      },
      "execution_count": null,
      "outputs": [
        {
          "output_type": "display_data",
          "data": {
            "text/plain": [
              "<Figure size 1000x600 with 1 Axes>"
            ],
            "image/png": "[encoded data removed]"
          },
          "metadata": {}
        }
      ]
    },
    {
      "cell_type": "markdown",
      "source": [
        "# Filtrando elementos com Massa Atômica maior que 20"
      ],
      "metadata": {
        "id": "loEYQUJniQBE"
      }
    },
    {
      "cell_type": "code",
      "source": [
        "# Filtrando elementos com Massa Atômica maior que 20\n",
        "elementos_pesados = df[df['Massa Atômica'] > 30]\n",
        "print(\"Elementos com Massa Atômica maior que 30:\")\n",
        "print(elementos_pesados)"
      ],
      "metadata": {
        "colab": {
          "base_uri": "https://localhost:8080/"
        },
        "id": "DA1FsdGfiQPr",
        "outputId": "4268f881-bd50-4cf1-c86d-565863254f62"
      },
      "execution_count": null,
      "outputs": [
        {
          "output_type": "stream",
          "name": "stdout",
          "text": [
            "Elementos com Massa Atômica maior que 30:\n",
            "    Elemento Símbolo  Número Atômico  Massa Atômica\n",
            "14   Fósforo       P              15         30.974\n",
            "15   Enxofre       S              16         32.060\n",
            "16     Cloro      Cl              17         35.450\n",
            "17   Argônio      Ar              18         39.948\n",
            "18  Potássio       K              19         39.098\n",
            "19    Cálcio      Ca              20         40.078\n"
          ]
        }
      ]
    },
    {
      "cell_type": "markdown",
      "source": [
        "# Agrupamento dos elementos"
      ],
      "metadata": {
        "id": "Wtmg1kwPidUg"
      }
    },
    {
      "cell_type": "code",
      "source": [
        "# Agrupe os elementos por uma categoria de Grupo\n",
        "grupos = {\n",
        "    'Hidrogênio': 'Grupo 1',\n",
        "    'Hélio': 'Grupo 18',\n",
        "    'Lítio': 'Grupo 1',\n",
        "    'Berílio': 'Grupo 2',\n",
        "    'Boro': 'Grupo 13',\n",
        "    'Carbono': 'Grupo 14',\n",
        "    'Nitrogênio': 'Grupo 15',\n",
        "    'Oxigênio': 'Grupo 16',\n",
        "    'Flúor': 'Grupo 17',\n",
        "    'Neônio': 'Grupo 18',\n",
        "    'Sódio': 'Grupo 1',\n",
        "    'Magnésio': 'Grupo 2',\n",
        "    'Alumínio': 'Grupo 13',\n",
        "    'Silício': 'Grupo 14',\n",
        "    'Fósforo': 'Grupo 15',\n",
        "    'Enxofre': 'Grupo 16',\n",
        "    'Cloro': 'Grupo 17',\n",
        "    'Argônio': 'Grupo 18',\n",
        "    'Potássio': 'Grupo 1',\n",
        "    'Cálcio': 'Grupo 2',\n",
        "}\n",
        "\n",
        "df['Grupos:'] = df['Elemento'].map(grupos)\n",
        "\n",
        "print(df)\n"
      ],
      "metadata": {
        "colab": {
          "base_uri": "https://localhost:8080/"
        },
        "id": "emNYd0QNidnt",
        "outputId": "8b2857a1-4e0f-485e-a32c-d9386fee4805"
      },
      "execution_count": null,
      "outputs": [
        {
          "output_type": "stream",
          "name": "stdout",
          "text": [
            "      Elemento Símbolo  Número Atômico  Massa Atômica   Grupos:\n",
            "0   Hidrogênio       H               1         1.0080   Grupo 1\n",
            "1        Hélio      He               2         4.0026  Grupo 18\n",
            "2        Lítio      Li               3         6.9400   Grupo 1\n",
            "3      Berílio      Be               4         9.0122   Grupo 2\n",
            "4         Boro       B               5        10.8100  Grupo 13\n",
            "5      Carbono       C               6        12.0110  Grupo 14\n",
            "6   Nitrogênio       N               7        14.0070  Grupo 15\n",
            "7     Oxigênio       O               8        15.9990  Grupo 16\n",
            "8        Flúor       F               9        18.9980  Grupo 17\n",
            "9       Neônio      Ne              10        20.1800  Grupo 18\n",
            "10       Sódio      Na              11        22.9900   Grupo 1\n",
            "11    Magnésio      Mg              12        24.3050   Grupo 2\n",
            "12    Alumínio      Al              13        26.9820  Grupo 13\n",
            "13     Silício      Si              14        28.0850  Grupo 14\n",
            "14     Fósforo       P              15        30.9740  Grupo 15\n",
            "15     Enxofre       S              16        32.0600  Grupo 16\n",
            "16       Cloro      Cl              17        35.4500  Grupo 17\n",
            "17     Argônio      Ar              18        39.9480  Grupo 18\n",
            "18    Potássio       K              19        39.0980   Grupo 1\n",
            "19      Cálcio      Ca              20        40.0780   Grupo 2\n"
          ]
        }
      ]
    },
    {
      "cell_type": "markdown",
      "source": [
        "# Tendências"
      ],
      "metadata": {
        "id": "H5B7hwr1is1v"
      }
    },
    {
      "cell_type": "code",
      "source": [
        "# Calcula a média da \"Massa Atômica\" para cada grupo\n",
        "media_massa_por_grupo = df.groupby('Grupos:')['Massa Atômica'].mean()\n",
        "print('Média da Massa Atômica por Grupo:')\n",
        "print(media_massa_por_grupo)"
      ],
      "metadata": {
        "colab": {
          "base_uri": "https://localhost:8080/"
        },
        "id": "4TF43e0uitHm",
        "outputId": "27db4c29-c705-46c2-cfb1-e6977dfa7cbe"
      },
      "execution_count": null,
      "outputs": [
        {
          "output_type": "stream",
          "name": "stdout",
          "text": [
            "Média da Massa Atômica por Grupo:\n",
            "Grupos:\n",
            "Grupo 1     17.509000\n",
            "Grupo 13    18.896000\n",
            "Grupo 14    20.048000\n",
            "Grupo 15    22.490500\n",
            "Grupo 16    24.029500\n",
            "Grupo 17    27.224000\n",
            "Grupo 18    21.376867\n",
            "Grupo 2     24.465067\n",
            "Name: Massa Atômica, dtype: float64\n"
          ]
        }
      ]
    },
    {
      "cell_type": "markdown",
      "source": [
        "# Exercício:\n",
        "\n",
        " - Calcule e exiba a média da \"Massa Atômica\" para todos os elementos químicos.\n",
        " - Identifique e exiba os elementos que têm uma \"Massa Atômica\" acima da média calculada no passo anterior.\n",
        " - Crie um gráfico de barras que mostre a \"Massa Atômica\" média para cada grupo. No eixo X, coloque os nomes dos grupos (por exemplo, \"Grupo 1\", \"Grupo 2\", etc.), e no eixo Y, coloque a massa atômica média. Dê um título ao gráfico.\n",
        " - Calcule e exiba a média da \"Número Atômico\" para todos os elementos químicos.\n",
        " - Identifique e exiba os elementos que têm um \"Número Atômico\" abaixo da média calculada no passo anterior.\n",
        " - Crie um gráfico de barras que mostre a \"Número Atômico\" médio para cada grupo. No eixo X, coloque os nomes dos grupos, e no eixo Y, coloque o número atômico médio. Dê um título ao gráfico.\n",
        "\n",
        "Dica:\n",
        "\n",
        " - Utilize as funções do Pandas para calcular médias, filtrar dados e agrupar elementos por grupo. Utilize o Matplotlib para criar gráficos de barras.\n",
        " - Começo do código:  df = pd.read_csv(\"tabela_quimica.csv\")\n",
        "\n"
      ],
      "metadata": {
        "id": "c-Yfx2Zzdfcq"
      }
    },
    {
      "cell_type": "code",
      "source": [
        "# Calcula e exibe a média da \"Massa Atômica\" para todos os elementos químicos.\n",
        "media_massa_atomica = df['Massa Atômica'].mean()\n",
        "print(f'Média da Massa Atômica para todos os elementos: {media_massa_atomica:.3f}')\n",
        "\n",
        "# Identifica e exibe os elementos que têm uma \"Massa Atômica\" acima da média calculada no passo anterior.\n",
        "elementos_acima_da_media = df[df['Massa Atômica'] > media_massa_atomica]\n",
        "print('\\nElementos com Massa Atômica acima da média:')\n",
        "print(elementos_acima_da_media[['Elemento', 'Massa Atômica']])\n",
        "\n",
        "# Cria um gráfico de barras que mostre a \"Massa Atômica\" média para cada grupo.\n",
        "import matplotlib.pyplot as plt\n",
        "\n",
        "# Agrupa os elementos por grupo e calcula a média da Massa Atômica para cada grupo\n",
        "media_massa_por_grupo = df.groupby('Grupos:')['Massa Atômica'].mean()\n",
        "\n",
        "# Cria o gráfico de barras\n",
        "plt.figure(figsize=(10, 6))\n",
        "plt.bar(media_massa_por_grupo.index, media_massa_por_grupo.values, label='Massa Atômica Média', alpha=0.7)\n",
        "plt.xlabel('Grupo')\n",
        "plt.ylabel('Massa Atômica Média')\n",
        "plt.title('Massa Atômica Média para Cada Grupo')\n",
        "plt.xticks(rotation=45)\n",
        "plt.legend()\n",
        "plt.tight_layout()\n",
        "plt.show()\n",
        "\n",
        "# Calcula e exibe a média da \"Número Atômico\" para todos os elementos químicos.\n",
        "media_numero_atomico = df['Número Atômico'].mean()\n",
        "print(f'\\nMédia do Número Atômico para todos os elementos: {media_numero_atomico:.3f}')\n",
        "\n",
        "# Identifica e exibe os elementos que têm um \"Número Atômico\" abaixo da média calculada no passo anterior.\n",
        "elementos_abaixo_da_media = df[df['Número Atômico'] < media_numero_atomico]\n",
        "print('\\nElementos com Número Atômico abaixo da média:')\n",
        "print(elementos_abaixo_da_media[['Elemento', 'Número Atômico']])\n",
        "\n",
        "# Cria um gráfico de barras que mostre o \"Número Atômico\" médio para cada grupo.\n",
        "media_numero_atomico_por_grupo = df.groupby('Grupos:')['Número Atômico'].mean()\n",
        "\n",
        "# Cria o gráfico de barras\n",
        "plt.figure(figsize=(10, 6))\n",
        "plt.bar(media_numero_atomico_por_grupo.index, media_numero_atomico_por_grupo.values, label='Número Atômico Médio', alpha=0.7)\n",
        "plt.xlabel('Grupo')\n",
        "plt.ylabel('Número Atômico Médio')\n",
        "plt.title('Número Atômico Médio para Cada Grupo')\n",
        "plt.xticks(rotation=45)\n",
        "plt.legend()\n",
        "plt.tight_layout()\n",
        "plt.show()\n"
      ],
      "metadata": {
        "colab": {
          "base_uri": "https://localhost:8080/",
          "height": 1000
        },
        "id": "_s2LsjSNdheY",
        "outputId": "22a4908a-c695-4446-cdc2-3fcf97c96278"
      },
      "execution_count": null,
      "outputs": [
        {
          "output_type": "stream",
          "name": "stdout",
          "text": [
            "Média da Massa Atômica para todos os elementos: 21.647\n",
            "\n",
            "Elementos com Massa Atômica acima da média:\n",
            "    Elemento  Massa Atômica\n",
            "10     Sódio         22.990\n",
            "11  Magnésio         24.305\n",
            "12  Alumínio         26.982\n",
            "13   Silício         28.085\n",
            "14   Fósforo         30.974\n",
            "15   Enxofre         32.060\n",
            "16     Cloro         35.450\n",
            "17   Argônio         39.948\n",
            "18  Potássio         39.098\n",
            "19    Cálcio         40.078\n"
          ]
        },
        {
          "output_type": "display_data",
          "data": {
            "text/plain": [
              "<Figure size 1000x600 with 1 Axes>"
            ],
            "image/png": "[encoded data removed]"
          },
          "metadata": {}
        },
        {
          "output_type": "stream",
          "name": "stdout",
          "text": [
            "\n",
            "Média do Número Atômico para todos os elementos: 10.500\n",
            "\n",
            "Elementos com Número Atômico abaixo da média:\n",
            "     Elemento  Número Atômico\n",
            "0  Hidrogênio               1\n",
            "1       Hélio               2\n",
            "2       Lítio               3\n",
            "3     Berílio               4\n",
            "4        Boro               5\n",
            "5     Carbono               6\n",
            "6  Nitrogênio               7\n",
            "7    Oxigênio               8\n",
            "8       Flúor               9\n",
            "9      Neônio              10\n"
          ]
        },
        {
          "output_type": "display_data",
          "data": {
            "text/plain": [
              "<Figure size 1000x600 with 1 Axes>"
            ],
            "image/png": "[encoded data removed]"
          },
          "metadata": {}
        }
      ]
    }
  ]
}
